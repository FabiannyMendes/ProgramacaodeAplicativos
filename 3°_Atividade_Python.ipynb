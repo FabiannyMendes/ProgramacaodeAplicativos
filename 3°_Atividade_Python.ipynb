{
  "nbformat": 4,
  "nbformat_minor": 0,
  "metadata": {
    "colab": {
      "provenance": [],
      "authorship_tag": "ABX9TyNSyN+teyQbCFm6JjBVUfjO",
      "include_colab_link": true
    },
    "kernelspec": {
      "name": "python3",
      "display_name": "Python 3"
    },
    "language_info": {
      "name": "python"
    }
  },
  "cells": [
    {
      "cell_type": "markdown",
      "metadata": {
        "id": "view-in-github",
        "colab_type": "text"
      },
      "source": [
        "<a href=\"https://colab.research.google.com/github/FabiannyMendes/ProjetoGit/blob/main/3%C2%B0_Atividade_Python.ipynb\" target=\"_parent\"><img src=\"https://colab.research.google.com/assets/colab-badge.svg\" alt=\"Open In Colab\"/></a>"
      ]
    },
    {
      "cell_type": "markdown",
      "source": [
        "1 - Faça um programa que peça uma nota, entre zero e dez. Mostre uma mensagem caso o valor seja inválido e continue pedindo até que o usuário informe um valor válido.\n"
      ],
      "metadata": {
        "id": "qoDcXLi_AroB"
      }
    },
    {
      "cell_type": "code",
      "execution_count": null,
      "metadata": {
        "id": "xCJGl8iFAgU4"
      },
      "outputs": [],
      "source": [
        "while True:\n",
        "    try:\n",
        "        nota = float(input(\"Digite uma nota entre zero e dez: \"))\n",
        "        if 0 <= nota <= 10:\n",
        "            print(f\"Você digitou a nota {nota}.\")\n",
        "            break\n",
        "        else:\n",
        "            print(\"Valor inválido! A nota deve estar entre zero e dez.\")\n",
        "    except ValueError:\n",
        "        print(\"Por favor, digite um valor numérico válido.\")"
      ]
    },
    {
      "cell_type": "markdown",
      "source": [
        "2 - Faça um programa que leia um nome de usuário e a sua senha e não aceite a senha igual ao nome do usuário, mostrando uma mensagem de erro e voltando a pedir as informações.\n"
      ],
      "metadata": {
        "id": "8pkhvk6xAqZ2"
      }
    },
    {
      "cell_type": "code",
      "source": [
        "while True:\n",
        "    nome_usuario = input(\"Digite seu nome de usuário: \")\n",
        "    senha = input(\"Digite sua senha: \")\n",
        "\n",
        "    if senha == nome_usuario:\n",
        "        print(\"Erro: A senha não pode ser igual ao nome de usuário. Tente novamente.\\n\")\n",
        "    else:\n",
        "        print(\"Login bem-sucedido!\")\n",
        "        break"
      ],
      "metadata": {
        "id": "70o5gen7A2p7"
      },
      "execution_count": null,
      "outputs": []
    },
    {
      "cell_type": "markdown",
      "source": [
        "3 - Faça um programa que imprima na tela os números de 1 a 20, um abaixo do outro. Depois modifique o programa para que ele mostre os números um ao lado do outro.\n"
      ],
      "metadata": {
        "id": "0NNbGq_ZA3Qr"
      }
    },
    {
      "cell_type": "code",
      "source": [
        "print(\"Imprimir abaixo:\")\n",
        "for i in range(1, 21):\n",
        "    print(i)\n",
        "\n",
        "print(\"\\nImprimir ao lado:\")\n",
        "for i in range(1, 21):\n",
        "    print(i, end=\" \")"
      ],
      "metadata": {
        "id": "YaVhqe0QA3wR"
      },
      "execution_count": null,
      "outputs": []
    },
    {
      "cell_type": "markdown",
      "source": [
        "4 - Faça um programa que leia 5 números e informe o maior número.\n"
      ],
      "metadata": {
        "id": "AvEtA_6qA4La"
      }
    },
    {
      "cell_type": "code",
      "source": [
        "maior_numero = None\n",
        "\n",
        "for i in range(5):\n",
        "    numero = float(input(f'Digite o {i+1}º número: '))\n",
        "\n",
        "    if maior_numero is None or numero > maior_numero:\n",
        "        maior_numero = numero\n",
        "\n",
        "print(f'O maior número é: {maior_numero}')"
      ],
      "metadata": {
        "id": "RHVNCAZaA4kw"
      },
      "execution_count": null,
      "outputs": []
    },
    {
      "cell_type": "markdown",
      "source": [
        "5 - Faça um programa que leia 5 números e informe a soma e a média dos números.\n"
      ],
      "metadata": {
        "id": "AvYyFdLMA49q"
      }
    },
    {
      "cell_type": "code",
      "source": [
        "soma = 0\n",
        "media = 0\n",
        "\n",
        "for i in range(5):\n",
        "    numero = float(input(f\"Digite o {i + 1}º número: \"))\n",
        "    soma += numero\n",
        "\n",
        "media = soma / 5\n",
        "\n",
        "print(f\"Soma dos números: {soma}\")\n",
        "print(f\"Média dos números: {media}\")"
      ],
      "metadata": {
        "id": "WEw5XchiBDyh"
      },
      "execution_count": null,
      "outputs": []
    },
    {
      "cell_type": "markdown",
      "source": [
        "6 - Faça um programa que imprima na tela apenas os números ímpares entre 1 e 50.\n"
      ],
      "metadata": {
        "id": "LLW5to3MBEcD"
      }
    },
    {
      "cell_type": "code",
      "source": [
        "for numero in range(1, 51, 2):\n",
        "    print(numero)"
      ],
      "metadata": {
        "id": "lTVdnfoABE6G"
      },
      "execution_count": null,
      "outputs": []
    },
    {
      "cell_type": "markdown",
      "source": [
        "7 - Faça um programa que receba dois números inteiros e gere os números inteiros que estão no intervalo compreendido por eles.\n",
        "Altere o programa anterior para mostrar no final a soma dos números."
      ],
      "metadata": {
        "id": "jEi1zN9cBFUk"
      }
    },
    {
      "cell_type": "code",
      "source": [
        "def gerar_e_calcular_soma(num1, num2):\n",
        "    inicio_intervalo = min(num1, num2)\n",
        "    fim_intervalo = max(num1, num2)\n",
        "\n",
        "    soma = 0\n",
        "\n",
        "    for numero in range(inicio_intervalo, fim_intervalo + 1):\n",
        "        print(numero, end=' ')\n",
        "        soma += numero\n",
        "\n",
        "    return soma\n",
        "\n",
        "num1 = int(input(\"Digite o primeiro número inteiro: \"))\n",
        "num2 = int(input(\"Digite o segundo número inteiro: \"))\n",
        "\n",
        "resultado_soma = gerar_e_calcular_soma(num1, num2)\n",
        "\n",
        "print(f\"\\nA soma dos números no intervalo é: {resultado_soma}\")"
      ],
      "metadata": {
        "id": "Noxv1bZnBF4B"
      },
      "execution_count": null,
      "outputs": []
    },
    {
      "cell_type": "markdown",
      "source": [
        "8 - Desenvolva um gerador de tabuada, capaz de gerar a tabuada de qualquer número inteiro entre 1 a 10. O usuário deve informar de qual numero ele deseja ver a tabuada. A saída deve ser conforme o exemplo abaixo:\n",
        "\n",
        "Tabuada de 5:\n",
        "5 X 1 = 5\n",
        "5 X 2 = 10\n",
        "...\n",
        "5 X 10 = 50"
      ],
      "metadata": {
        "id": "dWeB4rE0BIDk"
      }
    },
    {
      "cell_type": "code",
      "source": [
        "def gerar_tabuada(numero):\n",
        "    print(f'Tabuada de {numero}:')\n",
        "    for i in range(1, 11):\n",
        "        resultado = numero * i\n",
        "        print(f'{numero} X {i} = {resultado}')\n",
        "\n",
        "try:\n",
        "    numero_input = int(input('Digite um número inteiro entre 1 e 10: '))\n",
        "\n",
        "    if 1 <= numero_input <= 10:\n",
        "        gerar_tabuada(numero_input)\n",
        "    else:\n",
        "        print('Por favor, digite um número entre 1 e 10.')\n",
        "except ValueError:\n",
        "    print('Por favor, digite um número inteiro válido.')"
      ],
      "metadata": {
        "id": "zWXSWmbkBIlr"
      },
      "execution_count": null,
      "outputs": []
    },
    {
      "cell_type": "markdown",
      "source": [
        "9 - Faça um programa que peça dois números, base e expoente, calcule e mostre o primeiro número elevado ao segundo número. Não utilize a função de potência da linguagem.\n"
      ],
      "metadata": {
        "id": "lBWB0bD3BJDi"
      }
    },
    {
      "cell_type": "code",
      "source": [
        "def calcular_potencia(base, expoente):\n",
        "    resultado = 1\n",
        "\n",
        "    for _ in range(expoente):\n",
        "        resultado *= base\n",
        "\n",
        "    return resultado\n",
        "\n",
        "base = float(input(\"Digite o número base: \"))\n",
        "expoente = int(input(\"Digite o número do expoente: \"))\n",
        "\n",
        "resultado = calcular_potencia(base, expoente)\n",
        "print(f\"{base} elevado a {expoente} é igual a {resultado}\")\n"
      ],
      "metadata": {
        "id": "mC7d8aLrBJdQ"
      },
      "execution_count": null,
      "outputs": []
    },
    {
      "cell_type": "markdown",
      "source": [
        "10 - Faça um programa que peça 10 números inteiros, calcule e mostre a quantidade de números pares e a quantidade de números impares.\n"
      ],
      "metadata": {
        "id": "EZCoTo8DBJzv"
      }
    },
    {
      "cell_type": "code",
      "source": [
        "numeros_pares = 0\n",
        "numeros_impares = 0\n",
        "\n",
        "for i in range(10):\n",
        "    numero = int(input(f\"Digite o {i + 1}º número inteiro: \"))\n",
        "\n",
        "    if numero % 2 == 0:\n",
        "        numeros_pares += 1\n",
        "    else:\n",
        "        numeros_impares += 1\n",
        "\n",
        "print(f\"\\nQuantidade de números pares: {numeros_pares}\")\n",
        "print(f\"Quantidade de números ímpares: {numeros_impares}\")"
      ],
      "metadata": {
        "id": "DFvp_0kMBKI-"
      },
      "execution_count": null,
      "outputs": []
    },
    {
      "cell_type": "markdown",
      "source": [
        "11 - A série de Fibonacci é formada pela seqüência 1,1,2,3,5,8,13,21,34,55,... Faça um programa capaz de gerar a série até o n−ésimo termo.\n"
      ],
      "metadata": {
        "id": "CpqdpfUFBKdC"
      }
    },
    {
      "cell_type": "code",
      "source": [
        "def fibonacci(n):\n",
        "    fib_series = [1, 1]\n",
        "\n",
        "    while len(fib_series) < n:\n",
        "        fib_series.append(fib_series[-1] + fib_series[-2])\n",
        "\n",
        "    return fib_series[:n]\n",
        "\n",
        "n = 10\n",
        "resultado = fibonacci(n)\n",
        "print(f\"A série de Fibonacci até o {n}-ésimo termo é: {resultado}\")"
      ],
      "metadata": {
        "id": "mNUxbPBMBK0R"
      },
      "execution_count": null,
      "outputs": []
    },
    {
      "cell_type": "markdown",
      "source": [
        "12 - A série de Fibonacci é formada pela seqüência 0,1,1,2,3,5,8,13,21,34,55,... Faça um programa que gere a série até que o valor seja maior que 500.\n"
      ],
      "metadata": {
        "id": "CE7weKFYBLKF"
      }
    },
    {
      "cell_type": "code",
      "source": [
        "a, b = 0, 1\n",
        "\n",
        "while a <= 500:\n",
        "    print(a, end=', ')\n",
        "    a, b = b, a + b"
      ],
      "metadata": {
        "id": "5x_wECwqBkwc"
      },
      "execution_count": null,
      "outputs": []
    },
    {
      "cell_type": "markdown",
      "source": [
        "13 - Faça um programa que calcule o fatorial de um número inteiro fornecido pelo usuário. Ex.: 5!=5.4.3.2.1=120\n"
      ],
      "metadata": {
        "id": "3X2U1n8ZBlQ6"
      }
    },
    {
      "cell_type": "code",
      "source": [
        "def calcular_fatorial(numero):\n",
        "    if numero < 0:\n",
        "        return \"O fatorial não está definido para números negativos.\"\n",
        "    elif numero == 0 or numero == 1:\n",
        "        return 1\n",
        "    else:\n",
        "        fatorial = 1\n",
        "        for i in range(2, numero + 1):\n",
        "            fatorial *= i\n",
        "        return f'O fatorial de {numero} é {fatorial}.'\n",
        "\n",
        "try:\n",
        "    numero_usuario = int(input(\"Digite um número inteiro para calcular o fatorial: \"))\n",
        "    resultado = calcular_fatorial(numero_usuario)\n",
        "    print(resultado)\n",
        "except ValueError:\n",
        "    print(\"Por favor, insira um número inteiro válido.\")\n"
      ],
      "metadata": {
        "id": "V1JcX62BBl3Z"
      },
      "execution_count": null,
      "outputs": []
    }
  ]
}