{
  "nbformat": 4,
  "nbformat_minor": 0,
  "metadata": {
    "colab": {
      "provenance": [],
      "include_colab_link": true
    },
    "kernelspec": {
      "name": "python3",
      "display_name": "Python 3"
    },
    "language_info": {
      "name": "python"
    }
  },
  "cells": [
    {
      "cell_type": "markdown",
      "metadata": {
        "id": "view-in-github",
        "colab_type": "text"
      },
      "source": [
        "<a href=\"https://colab.research.google.com/github/FabiannyMendes/ProjetoGit/blob/main/5%C2%B0_Atividade_de_Python.ipynb\" target=\"_parent\"><img src=\"https://colab.research.google.com/assets/colab-badge.svg\" alt=\"Open In Colab\"/></a>"
      ]
    },
    {
      "cell_type": "markdown",
      "source": [
        "1 - Faça um programa para imprimir:\n",
        "1\n",
        " 2 2\n",
        " 3 3 3\n",
        ".....\n",
        " n n n n n n ... n\n",
        "\n",
        "\n",
        "para um  informado pelo usuário. Use uma função que receba um valor  inteiro e imprima até a n-ésima linha.\n"
      ],
      "metadata": {
        "id": "E7ZLuV1QTm1d"
      }
    },
    {
      "cell_type": "code",
      "source": [
        "def imprimir_padrao(n):\n",
        "    for i in range(1, n + 1):\n",
        "        linha = ' '.join(str(i) * i)\n",
        "        print(linha)\n",
        "\n",
        "\n",
        "n = int(input(\"Digite o valor de n: \"))\n",
        "\n",
        "imprimir_padrao(n)\n"
      ],
      "metadata": {
        "id": "xnCwVtjcTwSY"
      },
      "execution_count": null,
      "outputs": []
    },
    {
      "cell_type": "markdown",
      "source": [
        "2 - Escreva uma função chamada fatorial que calcula o fatorial de um número inteiro fornecido como argumento"
      ],
      "metadata": {
        "id": "IeLlb8WSUDhz"
      }
    },
    {
      "cell_type": "code",
      "source": [
        "def fatorial(n):\n",
        "    \"\"\"\n",
        "    Calcula o fatorial de um número inteiro n.\n",
        "\n",
        "    Argumentos:\n",
        "    n: Um número inteiro.\n",
        "\n",
        "    Retorna:\n",
        "    O fatorial de n.\n",
        "    \"\"\"\n",
        "    if n == 0:\n",
        "        return 1\n",
        "    else:\n",
        "        resultado = 1\n",
        "        for i in range(1, n + 1):\n",
        "            resultado *= i\n",
        "        return resultado\n",
        "\n",
        "\n",
        "numero = 5\n",
        "print(\"O fatorial de\", numero, \"é:\", fatorial(numero))\n"
      ],
      "metadata": {
        "id": "CWvmZnGUVC6r"
      },
      "execution_count": null,
      "outputs": []
    },
    {
      "cell_type": "markdown",
      "source": [
        ".3 - Escreva uma função chamada verifica_primo que verifica se um número é primo ou não e retorna True ou False."
      ],
      "metadata": {
        "id": "S-gmNXo0VO4E"
      }
    },
    {
      "cell_type": "code",
      "source": [
        "def verifica_primo(num):\n",
        "    \"\"\"\n",
        "    Verifica se um número é primo ou não.\n",
        "\n",
        "    Argumentos:\n",
        "    num: Um número inteiro.\n",
        "\n",
        "    Retorna:\n",
        "    True se o número for primo, False caso contrário.\n",
        "    \"\"\"\n",
        "    if num <= 1:\n",
        "        return False\n",
        "    elif num <= 3:\n",
        "        return True\n",
        "    elif num % 2 == 0 or num % 3 == 0:\n",
        "        return False\n",
        "    else:\n",
        "        i = 5\n",
        "        while i * i <= num:\n",
        "            if num % i == 0 or num % (i + 2) == 0:\n",
        "                return False\n",
        "            i += 6\n",
        "        return True\n",
        "\n",
        "numero = 17\n",
        "if verifica_primo(numero):\n",
        "    print(numero, \"é primo.\")\n",
        "else:\n",
        "    print(numero, \"não é primo.\")\n"
      ],
      "metadata": {
        "colab": {
          "base_uri": "https://localhost:8080/"
        },
        "id": "zbx1EXEHVTSc",
        "outputId": "bfe58487-f8df-4341-ef92-42f0bbe4f41d"
      },
      "execution_count": null,
      "outputs": [
        {
          "output_type": "stream",
          "name": "stdout",
          "text": [
            "17 é primo.\n"
          ]
        }
      ]
    },
    {
      "cell_type": "markdown",
      "source": [
        "4 - Escreva uma função chamada inverte_string que aceita uma string como parâmetro e retorna a string invertida.\n"
      ],
      "metadata": {
        "id": "VhLoIT6oVhH0"
      }
    },
    {
      "cell_type": "code",
      "source": [
        "def inverte_string(string):\n",
        "    \"\"\"\n",
        "    Inverte uma string.\n",
        "\n",
        "    Argumentos:\n",
        "    string: Uma string.\n",
        "\n",
        "    Retorna:\n",
        "    A string invertida.\n",
        "    \"\"\"\n",
        "    return string[::-1]\n",
        "\n",
        "\n",
        "texto = \"Olá, mundo!\"\n",
        "texto_invertido = inverte_string(texto)\n",
        "print(\"String original:\", texto)\n",
        "print(\"String invertida:\", texto_invertido)\n",
        "\n"
      ],
      "metadata": {
        "id": "3rsabbWRVmAW"
      },
      "execution_count": null,
      "outputs": []
    },
    {
      "cell_type": "markdown",
      "source": [
        "\n",
        "5 - Escreva uma função chamada maior_valor que aceita uma lista de números como parâmetro e retorna o maior valor na lista.\n"
      ],
      "metadata": {
        "id": "0_qg5SR2VNID"
      }
    },
    {
      "cell_type": "code",
      "source": [
        "def maior_valor(lista):\n",
        "    \"\"\"\n",
        "    Retorna o maior valor em uma lista de números.\n",
        "\n",
        "    Argumentos:\n",
        "    lista: Uma lista de números.\n",
        "\n",
        "    Retorna:\n",
        "    O maior valor na lista.\n",
        "    \"\"\"\n",
        "    if not lista:\n",
        "        return None\n",
        "\n",
        "    max_valor = lista[0]\n",
        "    for num in lista:\n",
        "        if num > max_valor:\n",
        "            max_valor = num\n",
        "    return max_valor\n",
        "\n",
        "\n",
        "numeros = [10, 5, 20, 15, 30]\n",
        "print(\"O maior valor na lista é:\", maior_valor(numeros))\n"
      ],
      "metadata": {
        "colab": {
          "base_uri": "https://localhost:8080/"
        },
        "id": "sFpiENjeWpMB",
        "outputId": "6855250e-cf34-4965-a224-c8e6bd9664ab"
      },
      "execution_count": null,
      "outputs": [
        {
          "output_type": "stream",
          "name": "stdout",
          "text": [
            "O maior valor na lista é: 30\n"
          ]
        }
      ]
    },
    {
      "cell_type": "markdown",
      "source": [
        "\n",
        "6 - Escreva uma função chamada conta_vogais que aceita uma string como parâmetro e retorna o número de vogais na string.\n"
      ],
      "metadata": {
        "id": "4uIWgyFPWzGd"
      }
    },
    {
      "cell_type": "code",
      "source": [
        "def conta_vogais(string):\n",
        "    \"\"\"\n",
        "    Conta o número de vogais em uma string.\n",
        "\n",
        "    Argumentos:\n",
        "    string: Uma string.\n",
        "\n",
        "    Retorna:\n",
        "    O número de vogais na string.\n",
        "    \"\"\"\n",
        "    vogais = \"aeiouAEIOU\"\n",
        "    contador = 0\n",
        "    for char in string:\n",
        "        if char in vogais:\n",
        "            contador += 1\n",
        "    return contador\n",
        "\n",
        "texto = \"Python é uma linguagem de programação\"\n",
        "print(\"O número de vogais no texto é:\", conta_vogais(texto))\n"
      ],
      "metadata": {
        "colab": {
          "base_uri": "https://localhost:8080/"
        },
        "id": "zsZa0ZT4W0S1",
        "outputId": "22e23b9b-67b6-460d-c119-4754161475d6"
      },
      "execution_count": null,
      "outputs": [
        {
          "output_type": "stream",
          "name": "stdout",
          "text": [
            "O número de vogais no texto é: 12\n"
          ]
        }
      ]
    },
    {
      "cell_type": "markdown",
      "source": [
        "\n",
        "7 - Escreva uma função chamada soma_quadrados que aceita uma lista de números como parâmetro e retorna a soma dos quadrados desses números.\n",
        "\n"
      ],
      "metadata": {
        "id": "73L3u8DDW_WR"
      }
    },
    {
      "cell_type": "code",
      "source": [
        "def soma_quadrados(lista):\n",
        "    \"\"\"\n",
        "    Calcula a soma dos quadrados dos números em uma lista.\n",
        "\n",
        "    Argumentos:\n",
        "    lista: Uma lista de números.\n",
        "\n",
        "    Retorna:\n",
        "    A soma dos quadrados dos números na lista.\n",
        "    \"\"\"\n",
        "    soma = 0\n",
        "    for num in lista:\n",
        "        soma += num ** 2\n",
        "    return soma\n",
        "\n",
        "numeros = [1, 2, 3, 4, 5]\n",
        "print(\"A soma dos quadrados dos números na lista é:\", soma_quadrados(numeros))\n"
      ],
      "metadata": {
        "colab": {
          "base_uri": "https://localhost:8080/"
        },
        "id": "VR8sozEwXC7n",
        "outputId": "6da0823b-fc9a-4fcc-bd8c-73806c997a6e"
      },
      "execution_count": null,
      "outputs": [
        {
          "output_type": "stream",
          "name": "stdout",
          "text": [
            "A soma dos quadrados dos números na lista é: 55\n"
          ]
        }
      ]
    },
    {
      "cell_type": "markdown",
      "source": [
        "8 - Escreva uma função chamada imprime_tabuada que aceita um número inteiro como parâmetro e imprime a tabuada desse número de 1 a 10."
      ],
      "metadata": {
        "id": "hnkWNBFPXXl1"
      }
    },
    {
      "cell_type": "code",
      "source": [
        "def imprime_tabuada(numero):\n",
        "    \"\"\"\n",
        "    Imprime a tabuada de um número de 1 a 10.\n",
        "\n",
        "    Argumentos:\n",
        "    numero: Um número inteiro.\n",
        "\n",
        "    Retorna:\n",
        "    Nada.\n",
        "    \"\"\"\n",
        "    print(\"Tabuada de\", numero, \":\")\n",
        "    for i in range(1, 11):\n",
        "        print(numero, \"x\", i, \"=\", numero * i)\n",
        "\n",
        "\n",
        "numero = 7\n",
        "imprime_tabuada(numero)\n"
      ],
      "metadata": {
        "colab": {
          "base_uri": "https://localhost:8080/"
        },
        "id": "u3V2C9rOXZ1f",
        "outputId": "27282f3b-de51-4bf1-94bd-92e8d3ea8031"
      },
      "execution_count": null,
      "outputs": [
        {
          "output_type": "stream",
          "name": "stdout",
          "text": [
            "Tabuada de 7 :\n",
            "7 x 1 = 7\n",
            "7 x 2 = 14\n",
            "7 x 3 = 21\n",
            "7 x 4 = 28\n",
            "7 x 5 = 35\n",
            "7 x 6 = 42\n",
            "7 x 7 = 49\n",
            "7 x 8 = 56\n",
            "7 x 9 = 63\n",
            "7 x 10 = 70\n"
          ]
        }
      ]
    }
  ]
}