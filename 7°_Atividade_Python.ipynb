{
  "nbformat": 4,
  "nbformat_minor": 0,
  "metadata": {
    "colab": {
      "provenance": [],
      "authorship_tag": "ABX9TyNIwCwYSO27TdDDc04dgQec",
      "include_colab_link": true
    },
    "kernelspec": {
      "name": "python3",
      "display_name": "Python 3"
    },
    "language_info": {
      "name": "python"
    }
  },
  "cells": [
    {
      "cell_type": "markdown",
      "metadata": {
        "id": "view-in-github",
        "colab_type": "text"
      },
      "source": [
        "<a href=\"https://colab.research.google.com/github/FabiannyMendes/ProjetoGit/blob/main/7%C2%B0_Atividade_Python.ipynb\" target=\"_parent\"><img src=\"https://colab.research.google.com/assets/colab-badge.svg\" alt=\"Open In Colab\"/></a>"
      ]
    },
    {
      "cell_type": "markdown",
      "source": [
        "Crie uma classe que modele um quadrado:\n",
        "Atributos: Tamanho do lado\n",
        "Métodos: Mudar valor do Lado, Retornar valor do Lado e calcular Área;"
      ],
      "metadata": {
        "id": "9XwWuJju-nmF"
      }
    },
    {
      "cell_type": "code",
      "execution_count": null,
      "metadata": {
        "id": "NxThsry9-aSG"
      },
      "outputs": [],
      "source": [
        "class Quadrado:\n",
        "  def __init__(self, lado):\n",
        "    self.lado = lado\n",
        "\n",
        "  def mudar_valor_lado(self, novo_lado):\n",
        "    self.lado = novo_lado\n",
        "\n",
        "  def retornar_valor_lado(self):\n",
        "    return self.lado\n",
        "\n",
        "  def calcular_area(self):\n",
        "    return self.lado ** 2\n",
        "\n",
        "quadrado = Quadrado(5)\n",
        "\n",
        "quadrado.mudar_valor_lado(30)\n",
        "\n",
        "print(quadrado.retornar_valor_lado())\n",
        "\n",
        "print(quadrado.calcular_area())"
      ]
    },
    {
      "cell_type": "markdown",
      "source": [
        " Crie uma classe que modele um retangulo:\n",
        "Atributos: LadoA, LadoB (ou Comprimento e Largura, ou Base e Altura, a escolher)\n",
        "Métodos: Mudar valor dos lados, Retornar valor dos lados, calcular Área e calcular Perímetro;\n",
        "Crie um programa que utilize esta classe. Ele deve pedir ao usuário que informe as medidas de um local. Depois, deve criar um objeto com as medidas e calcular a quantidade de pisos e de rodapés necessárias para o local."
      ],
      "metadata": {
        "id": "ZEeQ3TA_-pGW"
      }
    },
    {
      "cell_type": "code",
      "source": [
        "class Retangulo:\n",
        "  def __init__(self, lado_a, lado_b):\n",
        "    self.lado_a = lado_a\n",
        "    self.lado_b = lado_b\n",
        "\n",
        "  def mudar_valor_lados(self, novo_lado_a, novo_lado_b):\n",
        "    self.lado_a = novo_lado_a\n",
        "    self.lado_b = novo_lado_b\n",
        "\n",
        "  def retornar_valor_lados(self):\n",
        "    return self.lado_a, self.lado_b\n",
        "\n",
        "  def calcular_area(self):\n",
        "    return self.lado_a * self.lado_b\n",
        "\n",
        "  def calcular_perimetro(self):\n",
        "    return 2 * (self.lado_a + self.lado_b)\n",
        "\n",
        "lado_a = float(input(\"Informe a medida do lado A: \"))\n",
        "lado_b = float(input(\"Informe a medida do lado B: \"))\n",
        "\n",
        "retangulo = Retangulo(lado_a, lado_b)\n",
        "\n",
        "area_local = retangulo.calcular_area()\n",
        "area_piso = float(input(\"Informe a área de um piso: \"))\n",
        "quantidade_pisos = area_local / area_piso\n",
        "\n",
        "print(f\"Quantidade de pisos: {quantidade_pisos}\")"
      ],
      "metadata": {
        "id": "a-Lc3X0A-pmA"
      },
      "execution_count": null,
      "outputs": []
    },
    {
      "cell_type": "markdown",
      "source": [
        " Crie uma classe que modele uma pessoa:\n",
        "Atributos: nome, idade, peso e altura\n",
        "Métodos: Envelhercer, engordar, emagrecer, crescer. Obs: Por padrão, a cada ano que nossa pessoa envelhece, sendo a idade dela menor que 21 anos, ela deve crescer 0,5 cm."
      ],
      "metadata": {
        "id": "QGdtJ51w_0hi"
      }
    },
    {
      "cell_type": "code",
      "source": [
        "class Pessoa:\n",
        "  def __init__(self, nome, idade, peso, altura):\n",
        "    self.nome = nome\n",
        "    self.idade = idade\n",
        "    self.peso = peso\n",
        "    self.altura = altura\n",
        "\n",
        "  def envelhecer(self):\n",
        "    self.idade += 1\n",
        "    if self.idade < 21:\n",
        "      self.crescer(0.5)\n",
        "\n",
        "  def engordar(self, peso):\n",
        "    self.peso += peso\n",
        "\n",
        "  def emagrecer(self, peso):\n",
        "    self.peso -= peso\n",
        "\n",
        "  def crescer(self, altura):\n",
        "    self.altura += altura\n",
        "\n",
        "pessoa = Pessoa(\"Camila\", 17, 76, 1.60)\n",
        "pessoa.envelhecer()\n",
        "pessoa.engordar(5)\n",
        "pessoa.emagrecer(2)\n",
        "pessoa.crescer(0.3)\n",
        "\n",
        "print(f\"Nome: {pessoa.nome}\")\n",
        "print(f\"Idade: {pessoa.idade}\")\n",
        "print(f\"Peso: {pessoa.peso}\")\n",
        "print(f\"Altura: {pessoa.altura}\")"
      ],
      "metadata": {
        "colab": {
          "base_uri": "https://localhost:8080/"
        },
        "id": "vA30DZR3_1Ce",
        "outputId": "b008cd62-a760-49a3-a4a3-eedcde4f1f70"
      },
      "execution_count": null,
      "outputs": [
        {
          "output_type": "stream",
          "name": "stdout",
          "text": [
            "Nome: Camila\n",
            "Idade: 18\n",
            "Peso: 79\n",
            "Altura: 2.4\n"
          ]
        }
      ]
    },
    {
      "cell_type": "markdown",
      "source": [
        " Crie uma classe para implementar uma conta corrente.\n",
        "A classe deve possuir os seguintes atributos: número da conta, nome do correntista e saldo.\n",
        "Os métodos são os seguintes: alterarNome, depósito e saque;\n",
        "No construtor, saldo é opcional, com valor default zero e os demais atributos são obrigatórios.\n"
      ],
      "metadata": {
        "id": "cK7xYDnb_1tF"
      }
    },
    {
      "cell_type": "code",
      "source": [
        "class ContaCorrente:\n",
        "  def __init__(self, numero_conta, nome_correntista, saldo=0):\n",
        "    self.numero_conta = numero_conta\n",
        "    self.nome_correntista = nome_correntista\n",
        "    self.saldo = saldo\n",
        "\n",
        "  def alterar_nome(self, novo_nome):\n",
        "    self.nome_correntista = novo_nome\n",
        "\n",
        "  def deposito(self, valor):\n",
        "    self.saldo += valor\n",
        "\n",
        "  def saque(self, valor):\n",
        "    if valor <= self.saldo:\n",
        "      self.saldo -= valor\n",
        "    else:\n",
        "      print(\"Saldo insuficiente\")\n",
        "\n",
        "conta = ContaCorrente(12345, \"Kleber\")\n",
        "\n",
        "conta.deposito(7000)\n",
        "\n",
        "conta.saque(67)\n",
        "\n",
        "print(f\"Saldo: {conta.saldo}\")"
      ],
      "metadata": {
        "colab": {
          "base_uri": "https://localhost:8080/"
        },
        "id": "Gn_vjFZe_2HH",
        "outputId": "4f9d5811-accf-4d2a-fa28-8d1d47933e49"
      },
      "execution_count": null,
      "outputs": [
        {
          "output_type": "stream",
          "name": "stdout",
          "text": [
            "Saldo: 6933\n"
          ]
        }
      ]
    },
    {
      "cell_type": "markdown",
      "source": [
        "Faça um programa que simule um televisor criando-o como um objeto. O usuário deve ser capaz de informar o número do canal e aumentar ou diminuir o volume. Certifique-se de que o número do canal e o nível do volume permanecem dentro de faixas válidas."
      ],
      "metadata": {
        "id": "z7JVpPcc_2cR"
      }
    },
    {
      "cell_type": "code",
      "source": [
        "class Televisor:\n",
        "  def __init__(self):\n",
        "    self.canal = 1\n",
        "    self.volume = 12\n",
        "\n",
        "  def aumentar_volume(self):\n",
        "    if self.volume < 100:\n",
        "      self.volume += 1\n",
        "\n",
        "  def diminuir_volume(self):\n",
        "    if self.volume > 0:\n",
        "      self.volume -= 1\n",
        "\n",
        "  def mudar_canal(self, novo_canal):\n",
        "    if 1 <= novo_canal <= 99:\n",
        "      self.canal = novo_canal\n",
        "\n",
        "televisor = Televisor()\n",
        "televisor.aumentar_volume()\n",
        "televisor.diminuir_volume()\n",
        "televisor.mudar_canal(52)\n",
        "\n",
        "print(f\"Canal: {televisor.canal}\")\n",
        "print(f\"Volume: {televisor.volume}\")"
      ],
      "metadata": {
        "id": "wdH1wGVF_23a"
      },
      "execution_count": null,
      "outputs": []
    }
  ]
}