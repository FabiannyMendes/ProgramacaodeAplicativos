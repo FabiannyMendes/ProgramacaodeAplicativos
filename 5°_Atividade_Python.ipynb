{
  "nbformat": 4,
  "nbformat_minor": 0,
  "metadata": {
    "colab": {
      "provenance": [],
      "authorship_tag": "ABX9TyPX9BPmZ61/ff3tY23PlVke",
      "include_colab_link": true
    },
    "kernelspec": {
      "name": "python3",
      "display_name": "Python 3"
    },
    "language_info": {
      "name": "python"
    }
  },
  "cells": [
    {
      "cell_type": "markdown",
      "metadata": {
        "id": "view-in-github",
        "colab_type": "text"
      },
      "source": [
        "<a href=\"https://colab.research.google.com/github/FabiannyMendes/ProjetoGit/blob/main/5%C2%B0_Atividade_Python.ipynb\" target=\"_parent\"><img src=\"https://colab.research.google.com/assets/colab-badge.svg\" alt=\"Open In Colab\"/></a>"
      ]
    },
    {
      "cell_type": "markdown",
      "source": [
        "1 - Faça um programa para imprimir:\n",
        "1\n",
        " 2 2\n",
        " 3 3 3\n",
        ".....\n",
        " n n n n n n ... n\n",
        "\n",
        "\n",
        "para um  informado pelo usuário. Use uma função que receba um valor  inteiro e imprima até a n-ésima linha."
      ],
      "metadata": {
        "id": "eSOGuOlDB3Mn"
      }
    },
    {
      "cell_type": "code",
      "execution_count": null,
      "metadata": {
        "id": "sKUfh1GbBR7B"
      },
      "outputs": [],
      "source": []
    },
    {
      "cell_type": "markdown",
      "source": [
        "2 - Escreva uma função chamada fatorial que calcula o fatorial de um número inteiro fornecido como argumento.3 - Escreva uma função chamada verifica_primo que verifica se um número é primo ou não e retorna True ou False."
      ],
      "metadata": {
        "id": "3qtckOrDB409"
      }
    },
    {
      "cell_type": "code",
      "source": [],
      "metadata": {
        "id": "HeOfGuKDB5Lh"
      },
      "execution_count": null,
      "outputs": []
    },
    {
      "cell_type": "markdown",
      "source": [
        "3 - Escreva uma função chamada inverte_string que aceita uma string como parâmetro e retorna a string invertida."
      ],
      "metadata": {
        "id": "Ng9K-wZQB5iI"
      }
    },
    {
      "cell_type": "code",
      "source": [],
      "metadata": {
        "id": "CdHyviO_B543"
      },
      "execution_count": null,
      "outputs": []
    },
    {
      "cell_type": "markdown",
      "source": [
        "4 - Escreva uma função chamada maior_valor que aceita uma lista de números como parâmetro e retorna o maior valor na lista.\n"
      ],
      "metadata": {
        "id": "_Ogjcmc_B6NQ"
      }
    },
    {
      "cell_type": "code",
      "source": [],
      "metadata": {
        "id": "vQbtSRoIB6m7"
      },
      "execution_count": null,
      "outputs": []
    },
    {
      "cell_type": "markdown",
      "source": [
        "5 - Escreva uma função chamada conta_vogais que aceita uma string como parâmetro e retorna o número de vogais na string.\n"
      ],
      "metadata": {
        "id": "yPzsx9nnB6_l"
      }
    },
    {
      "cell_type": "code",
      "source": [],
      "metadata": {
        "id": "Oa_3D4uPB7VO"
      },
      "execution_count": null,
      "outputs": []
    },
    {
      "cell_type": "markdown",
      "source": [
        "6 - Escreva uma função chamada soma_quadrados que aceita uma lista de números como parâmetro e retorna a soma dos quadrados desses números.\n"
      ],
      "metadata": {
        "id": "rKTv__sGB7rp"
      }
    },
    {
      "cell_type": "code",
      "source": [],
      "metadata": {
        "id": "7963xA9WB8JJ"
      },
      "execution_count": null,
      "outputs": []
    },
    {
      "cell_type": "markdown",
      "source": [
        "7 - Escreva uma função chamada imprime_tabuada que aceita um número inteiro como parâmetro e imprime a tabuada desse número de 1 a 10.\n"
      ],
      "metadata": {
        "id": "1aa9A_0eEFUS"
      }
    },
    {
      "cell_type": "code",
      "source": [],
      "metadata": {
        "id": "HNzPcKiGEFqo"
      },
      "execution_count": null,
      "outputs": []
    }
  ]
}