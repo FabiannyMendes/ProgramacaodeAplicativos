{
  "nbformat": 4,
  "nbformat_minor": 0,
  "metadata": {
    "colab": {
      "provenance": [],
      "authorship_tag": "ABX9TyPcQW2B8Ho8L2uA0moRkt73",
      "include_colab_link": true
    },
    "kernelspec": {
      "name": "python3",
      "display_name": "Python 3"
    },
    "language_info": {
      "name": "python"
    }
  },
  "cells": [
    {
      "cell_type": "markdown",
      "metadata": {
        "id": "view-in-github",
        "colab_type": "text"
      },
      "source": [
        "<a href=\"https://colab.research.google.com/github/FabiannyMendes/ProjetoGit/blob/main/2%C2%B0_Atividade_Python.ipynb\" target=\"_parent\"><img src=\"https://colab.research.google.com/assets/colab-badge.svg\" alt=\"Open In Colab\"/></a>"
      ]
    },
    {
      "cell_type": "markdown",
      "source": [
        "1 - Faça um Programa que peça um valor e mostre na tela se o valor é positivo ou negativo."
      ],
      "metadata": {
        "id": "nGs0BgTSjIYR"
      }
    },
    {
      "cell_type": "code",
      "execution_count": null,
      "metadata": {
        "id": "NGsta-nUi_ko"
      },
      "outputs": [],
      "source": [
        "valor = float(input(\"Digite um valor: \"))\n",
        "\n",
        "if valor > 0:\n",
        "    print(\"O valor é positivo.\")\n",
        "elif valor < 0:\n",
        "    print(\"O valor é negativo.\")\n",
        "else:\n",
        "    print(\"O valor é zero.\")"
      ]
    },
    {
      "cell_type": "markdown",
      "source": [
        "2 - Faça um Programa que verifique se uma letra digitada é \"F\" ou \"M\". Conforme a letra escrever: F - Feminino, M - Masculino, Sexo Inválido.\n"
      ],
      "metadata": {
        "id": "SZ_sChX-jML7"
      }
    },
    {
      "cell_type": "code",
      "source": [
        "letra = input(\"Digite uma letra (F ou M): \")\n",
        "\n",
        "letra = letra.upper()\n",
        "\n",
        "if letra == \"F\":\n",
        "    print(\"F - Feminino\")\n",
        "elif letra == \"M\":\n",
        "    print(\"M - Masculino\")\n",
        "else:\n",
        "    print(\"Sexo Inválido\")"
      ],
      "metadata": {
        "id": "xaQ6N7QFjPNr"
      },
      "execution_count": null,
      "outputs": []
    },
    {
      "cell_type": "markdown",
      "source": [
        "3 - Faça um Programa que verifique se uma letra digitada é vogal ou consoante.\n"
      ],
      "metadata": {
        "id": "acEilcTBjP3C"
      }
    },
    {
      "cell_type": "code",
      "source": [
        "letra = input(\"Digite uma letra: \")\n",
        "\n",
        "letra = letra.lower()\n",
        "\n",
        "if letra.isalpha():\n",
        "    if letra in 'aeiou':\n",
        "        print(f'A letra {letra} é uma vogal.')\n",
        "    else:\n",
        "        print(f'A letra {letra} é uma consoante.')\n",
        "else:\n",
        "    print('Por favor, digite apenas uma letra do alfabeto.')"
      ],
      "metadata": {
        "id": "iF1u9aGYjUCd"
      },
      "execution_count": null,
      "outputs": []
    },
    {
      "cell_type": "markdown",
      "source": [
        "4 - Faça um programa para a leitura de duas notas parciais de um aluno. O programa deve calcular a média alcançada por aluno apresentar:\n",
        "A mensagem \"Aprovado\", se a média alcançada for maior ou igual a sete;\n",
        "A mensagem \"Reprovado\", se a média for menor do que sete;\n",
        "A mensagem \"Aprovado com Distinção\", se a média for igual a dez."
      ],
      "metadata": {
        "id": "JuWGD-46jUZU"
      }
    },
    {
      "cell_type": "code",
      "source": [
        "nota1 = float(input(\"Digite a primeira nota: \"))\n",
        "nota2 = float(input(\"Digite a segunda nota: \"))\n",
        "\n",
        "media = (nota1 + nota2) / 2\n",
        "\n",
        "if media == 10:\n",
        "    print(\"Aprovado com Distinção\")\n",
        "elif media >= 7:\n",
        "    print(\"Aprovado\")\n",
        "else:\n",
        "    print(\"Reprovado\")"
      ],
      "metadata": {
        "id": "vfP6-e8_jZWW"
      },
      "execution_count": null,
      "outputs": []
    },
    {
      "cell_type": "markdown",
      "source": [
        "5 - Faça um Programa que leia três números e mostre o maior deles.\n"
      ],
      "metadata": {
        "id": "o63r2yG7jZ4b"
      }
    },
    {
      "cell_type": "code",
      "source": [
        "numero1 = float(input(\"Digite o primeiro número: \"))\n",
        "numero2 = float(input(\"Digite o segundo número: \"))\n",
        "numero3 = float(input(\"Digite o terceiro número: \"))\n",
        "\n",
        "if numero1 >= numero2 and numero1 >= numero3:\n",
        "    maior_numero = numero1\n",
        "elif numero2 >= numero1 and numero2 >= numero3:\n",
        "    maior_numero = numero2\n",
        "else:\n",
        "    maior_numero = numero3\n",
        "\n",
        "print(f\"O maior número é: {maior_numero}\")"
      ],
      "metadata": {
        "id": "vwXyaKfDjdkn"
      },
      "execution_count": null,
      "outputs": []
    },
    {
      "cell_type": "markdown",
      "source": [
        "6 - Faça um Programa que leia três números e mostre o maior e o menor deles.\n"
      ],
      "metadata": {
        "id": "Mf6w0DoTjd6E"
      }
    },
    {
      "cell_type": "code",
      "source": [
        "def encontrar_maior_menor(num1, num2, num3):\n",
        "    maior = max(num1, num2, num3)\n",
        "    menor = min(num1, num2, num3)\n",
        "    return maior, menor\n",
        "\n",
        "def main():\n",
        "    num1 = float(input(\"Digite o primeiro número: \"))\n",
        "    num2 = float(input(\"Digite o segundo número: \"))\n",
        "    num3 = float(input(\"Digite o terceiro número: \"))\n",
        "\n",
        "    maior, menor = encontrar_maior_menor(num1, num2, num3)\n",
        "\n",
        "    print(f\"O maior número é: {maior}\")\n",
        "    print(f\"O menor número é: {menor}\")\n",
        "\n",
        "main()"
      ],
      "metadata": {
        "id": "REosr_PkjgWi"
      },
      "execution_count": null,
      "outputs": []
    },
    {
      "cell_type": "markdown",
      "source": [
        "7 - Faça um programa que pergunte o preço de três produtos e informe qual produto você deve comprar, sabendo que a decisão é sempre pelo mais barato.\n"
      ],
      "metadata": {
        "id": "cofZbORfjgsO"
      }
    },
    {
      "cell_type": "code",
      "source": [
        "preco_produto1 = float(input(\"Digite o preço do primeiro produto: \"))\n",
        "preco_produto2 = float(input(\"Digite o preço do segundo produto: \"))\n",
        "preco_produto3 = float(input(\"Digite o preço do terceiro produto: \"))\n",
        "\n",
        "if preco_produto1 < preco_produto2 and preco_produto1 < preco_produto3:\n",
        "    produto_mais_barato = \"Produto 1\"\n",
        "    preco_mais_barato = preco_produto1\n",
        "elif preco_produto2 < preco_produto1 and preco_produto2 < preco_produto3:\n",
        "    produto_mais_barato = \"Produto 2\"\n",
        "    preco_mais_barato = preco_produto2\n",
        "else:\n",
        "    produto_mais_barato = \"Produto 3\"\n",
        "    preco_mais_barato = preco_produto3\n",
        "\n",
        "print(f\"Você deve comprar o {produto_mais_barato}, pois é o mais barato, custando R${preco_mais_barato:.2f}.\")"
      ],
      "metadata": {
        "id": "JIDiyzSxjkWw"
      },
      "execution_count": null,
      "outputs": []
    },
    {
      "cell_type": "markdown",
      "source": [
        "8 - Faça um Programa que leia três números e mostre-os em ordem decrescente.\n"
      ],
      "metadata": {
        "id": "Iz5OCoEhjktN"
      }
    },
    {
      "cell_type": "code",
      "source": [
        "def ordenar_decrescente(num1, num2, num3):\n",
        "    numeros = [num1, num2, num3]\n",
        "    numeros.sort(reverse=True)\n",
        "    return numeros\n",
        "\n",
        "def main():\n",
        "    num1 = float(input(\"Digite o primeiro número: \"))\n",
        "    num2 = float(input(\"Digite o segundo número: \"))\n",
        "    num3 = float(input(\"Digite o terceiro número: \"))\n",
        "\n",
        "    numeros_ordenados = ordenar_decrescente(num1, num2, num3)\n",
        "\n",
        "    print(\"Números em ordem decrescente:\", numeros_ordenados)\n",
        "\n",
        "if __name__ == \"__main__\":\n",
        "    main()"
      ],
      "metadata": {
        "id": "QPtlYjv2jnQk"
      },
      "execution_count": null,
      "outputs": []
    },
    {
      "cell_type": "markdown",
      "source": [
        "9 - As Organizações Tabajara resolveram dar um aumento de salário aos seus colaboradores e lhe contrataram para desenvolver o programa que calculará os reajustes. Faça um programa que recebe o salário de um colaborador e o reajuste segundo o seguinte critério, baseado no salário atual:\n",
        "salários até R$ 280,00 (incluindo) : aumento de 20%\n",
        "salários entre R$ 280,00 e R$ 700,00 : aumento de 15%\n",
        "salários entre R$ 700,00 e R$ 1500,00 : aumento de 10%\n",
        "salários de R$ 1500,00 em diante : aumento de 5% Após o aumento ser realizado, informe na tela:\n",
        "o salário antes do reajuste;\n",
        "o percentual de aumento aplicado;\n",
        "o valor do aumento;\n",
        "o novo salário, após o aumento."
      ],
      "metadata": {
        "id": "_m-vQ7sljnmF"
      }
    },
    {
      "cell_type": "code",
      "source": [
        "salario_atual = float(input(\"Digite o salário atual do colaborador: R$ \"))\n",
        "\n",
        "if salario_atual <= 280:\n",
        "    percentual_aumento = 20\n",
        "elif 280 < salario_atual <= 700:\n",
        "    percentual_aumento = 15\n",
        "elif 700 < salario_atual <= 1500:\n",
        "    percentual_aumento = 10\n",
        "else:\n",
        "    percentual_aumento = 5\n",
        "\n",
        "aumento = (percentual_aumento / 100) * salario_atual\n",
        "novo_salario = salario_atual + aumento\n",
        "\n",
        "print(\"\\nResumo do reajuste salarial:\")\n",
        "print(f\"Salário antes do reajuste: R$ {salario_atual:.2f}\")\n",
        "print(f\"Percentual de aumento aplicado: {percentual_aumento}%\")\n",
        "print(f\"Valor do aumento: R$ {aumento:.2f}\")\n",
        "print(f\"Novo salário após o aumento: R$ {novo_salario:.2f}\")"
      ],
      "metadata": {
        "id": "FKgvFib4jrL6"
      },
      "execution_count": null,
      "outputs": []
    },
    {
      "cell_type": "markdown",
      "source": [
        "10 - Faça um Programa que peça os 3 lados de um triângulo. O programa deverá informar se os valores podem ser um triângulo. Indique, caso os lados formem um triângulo, se o mesmo é: equilátero, isósceles ou escaleno.\n",
        "Dicas:\n",
        "Três lados formam um triângulo quando a soma de quaisquer dois lados for maior que o terceiro;\n",
        "Triângulo Equilátero: três lados iguais;\n",
        "Triângulo Isósceles: quaisquer dois lados iguais;\n",
        "Triângulo Escaleno: três lados diferentes;"
      ],
      "metadata": {
        "id": "t8f3ap30jrqp"
      }
    },
    {
      "cell_type": "code",
      "source": [
        "def classificar_triangulo(lado1, lado2, lado3):\n",
        "    if lado1 + lado2 > lado3 and lado1 + lado3 > lado2 and lado2 + lado3 > lado1:\n",
        "        if lado1 == lado2 == lado3:\n",
        "            return \"Triângulo Equilátero\"\n",
        "        elif lado1 == lado2 or lado1 == lado3 or lado2 == lado3:\n",
        "            return \"Triângulo Isósceles\"\n",
        "        else:\n",
        "            return \"Triângulo Escaleno\"\n",
        "    else:\n",
        "        return \"Não é um triângulo\"\n",
        "\n",
        "lado1 = float(input(\"Digite o comprimento do primeiro lado do triângulo: \"))\n",
        "lado2 = float(input(\"Digite o comprimento do segundo lado do triângulo: \"))\n",
        "lado3 = float(input(\"Digite o comprimento do terceiro lado do triângulo: \"))\n",
        "\n",
        "resultado = classificar_triangulo(lado1, lado2, lado3)\n",
        "print(\"Resultado:\", resultado)"
      ],
      "metadata": {
        "id": "CB9VwLoFjvJ-"
      },
      "execution_count": null,
      "outputs": []
    }
  ]
}
