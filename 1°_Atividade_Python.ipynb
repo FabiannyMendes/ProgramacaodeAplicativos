{
  "nbformat": 4,
  "nbformat_minor": 0,
  "metadata": {
    "colab": {
      "provenance": [],
      "authorship_tag": "ABX9TyNHaCV+aNqr2qzSQce/ckkK",
      "include_colab_link": true
    },
    "kernelspec": {
      "name": "python3",
      "display_name": "Python 3"
    },
    "language_info": {
      "name": "python"
    }
  },
  "cells": [
    {
      "cell_type": "markdown",
      "metadata": {
        "id": "view-in-github",
        "colab_type": "text"
      },
      "source": [
        "<a href=\"https://colab.research.google.com/github/FabiannyMendes/ProjetoGit/blob/main/1%C2%B0_Atividade_Python.ipynb\" target=\"_parent\"><img src=\"https://colab.research.google.com/assets/colab-badge.svg\" alt=\"Open In Colab\"/></a>"
      ]
    },
    {
      "cell_type": "markdown",
      "source": [
        "1 - Faça um Programa que mostre a mensagem \"Alo mundo\" na tela."
      ],
      "metadata": {
        "id": "M3CmDzRohoiT"
      }
    },
    {
      "cell_type": "code",
      "execution_count": null,
      "metadata": {
        "id": "eUBYDo54X-p0"
      },
      "outputs": [],
      "source": [
        "print(\"Alo mundo\")"
      ]
    },
    {
      "cell_type": "markdown",
      "source": [
        "2 - Faça um Programa que peça um número e então mostre a mensagem\n"
      ],
      "metadata": {
        "id": "ptVRd9rjhkTw"
      }
    },
    {
      "cell_type": "code",
      "source": [
        "numero = input(\"Digite um número: \")\n",
        "print(\"O número digitado foi:\", numero)\n"
      ],
      "metadata": {
        "id": "GodTYnU_iEbw"
      },
      "execution_count": null,
      "outputs": []
    },
    {
      "cell_type": "markdown",
      "source": [
        "3 - Faça um Programa que peça dois números e imprima a soma."
      ],
      "metadata": {
        "id": "vHMgciq4iHkh"
      }
    },
    {
      "cell_type": "code",
      "source": [
        "num1 = float(input(\"Digite o primeiro número: \"))\n",
        "num2 = float(input(\"Digite o segundo número: \"))\n",
        "soma = num1 + num2\n",
        "print(\"A soma dos números é:\", soma)\n"
      ],
      "metadata": {
        "id": "AVfAyCnMiMiA"
      },
      "execution_count": null,
      "outputs": []
    },
    {
      "cell_type": "markdown",
      "source": [
        "4 - Faça um Programa que peça as 4 notas bimestrais e mostre a média."
      ],
      "metadata": {
        "id": "Clep_jhsiRdR"
      }
    },
    {
      "cell_type": "code",
      "source": [
        "nota1 = float(input(\"Digite a nota do primeiro bimestre: \"))\n",
        "nota2 = float(input(\"Digite a nota do segundo bimestre: \"))\n",
        "nota3 = float(input(\"Digite a nota do terceiro bimestre: \"))\n",
        "nota4 = float(input(\"Digite a nota do quarto bimestre: \"))\n",
        "media = (nota1 + nota2 + nota3 + nota4) / 4\n",
        "print(\"A média das notas é:\", media)\n"
      ],
      "metadata": {
        "id": "Vx9KTbs3iXTD"
      },
      "execution_count": null,
      "outputs": []
    },
    {
      "cell_type": "markdown",
      "source": [
        "5 - Faça um Programa que converta metros para centímetros."
      ],
      "metadata": {
        "id": "ibvTQMgfiYwW"
      }
    },
    {
      "cell_type": "code",
      "source": [
        "metros = float(input(\"Digite a medida em metros: \"))\n",
        "centimetros = metros * 100\n",
        "print(f\"{metros} metros é igual a {centimetros} centímetros\")\n"
      ],
      "metadata": {
        "id": "yzdvhWrEibtT"
      },
      "execution_count": null,
      "outputs": []
    },
    {
      "cell_type": "markdown",
      "source": [
        "6 - Faça um Programa que peça o raio de um círculo, calcule e mostre sua área."
      ],
      "metadata": {
        "id": "e4X7w9JGipNU"
      }
    },
    {
      "cell_type": "code",
      "source": [
        "import math\n",
        "\n",
        "raio = float(input(\"Digite o raio do círculo: \"))\n",
        "area = math.pi * (raio ** 2)\n",
        "print(f\"A área do círculo é: {area}\")\n"
      ],
      "metadata": {
        "id": "Ya1IMnAviu0z"
      },
      "execution_count": null,
      "outputs": []
    },
    {
      "cell_type": "markdown",
      "source": [
        "7 - Faça um Programa que calcule a área de um quadrado, em seguida mostre o dobro desta área para o usuário."
      ],
      "metadata": {
        "id": "aCJPNhdtix47"
      }
    },
    {
      "cell_type": "code",
      "source": [
        "lado = float(input(\"Digite o lado do quadrado: \"))\n",
        "area_quadrado = lado ** 2\n",
        "dobro_area = 2 * area_quadrado\n",
        "print(f\"A área do quadrado é: {area_quadrado}\")\n",
        "print(f\"O dobro da área do quadrado é: {dobro_area}\")\n"
      ],
      "metadata": {
        "id": "MDUdiRODi0C9"
      },
      "execution_count": null,
      "outputs": []
    },
    {
      "cell_type": "markdown",
      "source": [
        "8 - Faça um Programa que pergunte quanto você ganha por hora e o número de horas trabalhadas no mês. Calcule e mostre o total do seu salário no referido mês."
      ],
      "metadata": {
        "id": "lDeDRa_zjDpY"
      }
    },
    {
      "cell_type": "code",
      "source": [
        "valor_por_hora = float(input(\"Digite o valor que você ganha por hora: \"))\n",
        "horas_trabalhadas = float(input(\"Digite o número de horas trabalhadas no mês: \"))\n",
        "salario_mensal = valor_por_hora * horas_trabalhadas\n",
        "print(f\"Seu salário no mês é: R${salario_mensal:.2f}\")\n"
      ],
      "metadata": {
        "id": "7Gn-ueP6jGNt"
      },
      "execution_count": null,
      "outputs": []
    },
    {
      "cell_type": "markdown",
      "source": [
        "9 - Faça um Programa que peça a temperatura em graus Fahrenheit, transforme e mostre a temperatura em graus Celsius. C = 5 * ((F-32) / 9)."
      ],
      "metadata": {
        "id": "1Xz88ReXnDU2"
      }
    },
    {
      "cell_type": "code",
      "source": [
        "fahrenheit = float(input(\"Digite a temperatura em Fahrenheit: \"))\n",
        "celsius = 5 * ((fahrenheit - 32) / 9)\n",
        "print(f\"A temperatura em Celsius é: {celsius:.2f}°C\")\n"
      ],
      "metadata": {
        "id": "LaAHSCNWoAlg"
      },
      "execution_count": null,
      "outputs": []
    },
    {
      "cell_type": "markdown",
      "source": [
        "10 - Faça um Programa que peça a temperatura em graus Celsius, transforme e mostre em graus Fahrenheit."
      ],
      "metadata": {
        "id": "3gNdFGUgoA_c"
      }
    },
    {
      "cell_type": "code",
      "source": [
        "celsius = float(input(\"Digite a temperatura em Celsius: \"))\n",
        "fahrenheit = (celsius * 9/5) + 32\n",
        "print(f\"A temperatura em Fahrenheit é: {fahrenheit:.2f}°F\")"
      ],
      "metadata": {
        "id": "MjNxl0CboHOb"
      },
      "execution_count": null,
      "outputs": []
    },
    {
      "cell_type": "markdown",
      "source": [
        "11 - Faça um Programa que peça 2 números inteiros e um número real. Calcule e mostre:\n",
        "\n",
        "\n",
        "• o produto do dobro do primeiro com metade do segundo .\n",
        "• a soma do triplo do primeiro com o terceiro.\n",
        "• o terceiro elevado ao cubo."
      ],
      "metadata": {
        "id": "LMzhFUzVoH3E"
      }
    },
    {
      "cell_type": "code",
      "source": [
        "num_int1 = int(input(\"Digite o primeiro número inteiro: \"))\n",
        "num_int2 = int(input(\"Digite o segundo número inteiro: \"))\n",
        "num_real = float(input(\"Digite um número real: \"))\n",
        "\n",
        "produto = (2 * num_int1) * (num_int2 / 2)\n",
        "soma = (3 * num_int1) + num_real\n",
        "cubo = num_real ** 3\n",
        "\n",
        "print(f\"O produto do dobro do primeiro com metade do segundo é: {produto}\")\n",
        "print(f\"A soma do triplo do primeiro com o terceiro é: {soma}\")\n",
        "print(f\"O terceiro elevado ao cubo é: {cubo}\")"
      ],
      "metadata": {
        "id": "b9KbNEm4oKZx"
      },
      "execution_count": null,
      "outputs": []
    },
    {
      "cell_type": "markdown",
      "source": [
        "12 - João Papo-de-Pescador, homem de bem, comprou um microcomputador para controlar o rendimento diário de seu trabalho. Toda vez que ele traz um peso de peixes maior que o estabelecido pelo regulamento de pesca do estado de São Paulo (50 quilos) deve pagar uma multa de R$ 4,00 por quilo excedente. João precisa que você faça um programa que leia a variável  (peso de peixes) e calcule o excesso. Gravar na variável  a quantidade de quilos além do limite e na variável  o valor da multa que João deverá pagar. Imprima os dados do programa com as mensagens adequadas."
      ],
      "metadata": {
        "id": "NBiznY9qoK6D"
      }
    },
    {
      "cell_type": "code",
      "source": [
        "peso_peixes = float(input(\"Digite o peso dos peixes em quilos: \"))\n",
        "limite_peso = 50\n",
        "excesso = max(0, peso_peixes - limite_peso)\n",
        "multa = excesso * 4\n",
        "\n",
        "print(f\"Quantidade de quilos além do limite: {excesso:.2f} kg\")\n",
        "print(f\"Valor da multa a ser pago: R${multa:.2f}\")"
      ],
      "metadata": {
        "id": "knRC4N-ToOoD"
      },
      "execution_count": null,
      "outputs": []
    },
    {
      "cell_type": "markdown",
      "source": [
        "13 - Faça um Programa que pergunte quanto você ganha por hora e o número de horas trabalhadas no mês. Calcule e mostre o total do seu salário no referido mês, sabendo-se que são descontados 11% para o Imposto de Renda, 8% para o INSS e 5% para o sindicato, faça um programa que nos dê:\n",
        "\n",
        "\n",
        "• salário bruto.\n",
        "• quanto pagou ao INSS.\n",
        "• quanto pagou ao sindicato.\n",
        "• o salário líquido.\n",
        "\n",
        "calcule os descontos e o salário líquido, conforme a fórmula abaixo:\n",
        "+ Salário Bruto : R$ - IR (11%) : R$ - INSS (8%) : R$ - Sindicato ( 5%) : R$  = Salário Liquido : R$\n",
        "Obs.: Salário Bruto - Descontos = Salário Líquido.\n"
      ],
      "metadata": {
        "id": "Kl9bGJjroRgC"
      }
    },
    {
      "cell_type": "code",
      "source": [
        "valor_por_hora = float(input(\"Digite o valor que você ganha por hora: \"))\n",
        "horas_trabalhadas = float(input(\"Digite o número de horas trabalhadas no mês: \"))\n",
        "salario_bruto = valor_por_hora * horas_trabalhadas\n",
        "ir = salario_bruto * 0.11\n",
        "inss = salario_bruto * 0.08\n",
        "sindicato = salario_bruto * 0.05\n",
        "descontos = ir + inss + sindicato\n",
        "salario_liquido = salario_bruto - descontos\n",
        "\n",
        "print(f\"Salário Bruto: R${salario_bruto:.2f}\")\n",
        "print(f\"Desconto do Imposto de Renda (11%): R${ir:.2f}\")\n",
        "print(f\"Desconto do INSS (8%): R${inss:.2f}\")\n",
        "print(f\"Desconto do Sindicato (5%): R${sindicato:.2f}\")\n",
        "print(f\"Salário Líquido: R${salario_liquido:.2f}\")"
      ],
      "metadata": {
        "id": "A6o_2j9joVcx"
      },
      "execution_count": null,
      "outputs": []
    },
    {
      "cell_type": "markdown",
      "source": [
        "15 - Faça um programa para uma loja de tintas. O programa deverá pedir o tamanho em metros quadrados da área a ser pintada. Considere que a cobertura da tinta é de 1 litro para cada 3 metros quadrados e que a tinta é vendida em latas de 18 litros, que custam R$ 80,00. Informe ao usuário a quantidades de latas de tinta a serem compradas e o preço total."
      ],
      "metadata": {
        "id": "o8pmCeW0oWFp"
      }
    },
    {
      "cell_type": "code",
      "source": [
        "tamanho_area = float(input(\"Digite o tamanho da área a ser pintada em metros quadrados: \"))\n",
        "cobertura_por_litro = 6\n",
        "\n",
        "litros_necessarios = tamanho_area / cobertura_por_litro\n",
        "\n",
        "latas_necessarias = litros_necessarios / 18\n",
        "preco_latas = latas_necessarias * 80\n",
        "\n",
        "galoes_necessarios = litros_necessarios / 3.6\n",
        "preco_galoes = galoes_necessarios * 25\n",
        "\n",
        "mix_latas = int(latas_necessarias)\n",
        "mix_galoes = round((litros_necessarios % 18) / 3.6)\n",
        "preco_mix = (mix_latas * 80) + (mix_galoes * 25)\n",
        "\n",
        "print(f\"Comprar apenas latas de 18 litros: {latas_necessarias:.2f} latas, Preço: R${preco_latas:.2f}\")\n",
        "print(f\"Comprar apenas galões de 3,6 litros: {galoes_necessarios:.2f} galões, Preço: R${preco_galoes:.2f}\")\n",
        "print(f\"Misturar latas e galões: {mix_latas} latas e {mix_galoes} galões, Preço: R${preco_mix:.2f}\")\n"
      ],
      "metadata": {
        "id": "oLIFyKjzomFJ"
      },
      "execution_count": null,
      "outputs": []
    },
    {
      "cell_type": "markdown",
      "source": [
        "16 - Faça um Programa para uma loja de tintas. O programa deverá pedir o tamanho em metros quadrados da área a ser pintada. Considere que a cobertura da tinta é de 1 litro para cada 6 metros quadrados e que a tinta é vendida em latas de 18 litros, que custam R$ 80,00 ou em galões de 3,6 litros, que custam R$ 25,00.Informe ao usuário as quantidades de tinta a serem compradas e os respectivos preços em 3 situações:\n",
        "\n",
        "\n",
        "• comprar apenas latas de 18 litros;\n",
        "• comprar apenas galões de 3,6 litros;\n",
        "• misturar latas e galões, de forma que o desperdício de tinta seja menor. Acrescente 10% de folga e sempre arredonde os valores para cima, isto é, considere latas cheias."
      ],
      "metadata": {
        "id": "YyVW8Gk1omvd"
      }
    },
    {
      "cell_type": "code",
      "source": [],
      "metadata": {
        "id": "K2JThilTop3m"
      },
      "execution_count": null,
      "outputs": []
    },
    {
      "cell_type": "markdown",
      "source": [
        "17 - Faça um programa que peça o tamanho de um arquivo para download (em MB) e a velocidade de um link de Internet (em Mbps), calcule e informe o tempo aproximado de download do arquivo usando este link (em minutos).\n",
        "\n"
      ],
      "metadata": {
        "id": "HMr6i2WJoqkw"
      }
    },
    {
      "cell_type": "code",
      "source": [
        "tamanho_arquivo = float(input(\"Digite o tamanho do arquivo para download em MB: \"))\n",
        "velocidade_internet = float(input(\"Digite a velocidade do link de Internet em Mbps: \"))\n",
        "\n",
        "tempo_aproximado = (tamanho_arquivo / (velocidade_internet / 8)) / 60\n",
        "\n",
        "print(f\"Tempo aproximado de download: {tempo_aproximado:.2f} minutos\")"
      ],
      "metadata": {
        "id": "ySFGWweaos5o"
      },
      "execution_count": null,
      "outputs": []
    }
  ]
}